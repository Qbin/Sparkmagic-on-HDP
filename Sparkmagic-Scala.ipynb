{
 "cells": [
  {
   "cell_type": "markdown",
   "metadata": {},
   "source": [
    "## Load Sparkmagic"
   ]
  },
  {
   "cell_type": "code",
   "execution_count": 1,
   "metadata": {
    "collapsed": false
   },
   "outputs": [],
   "source": [
    "%load_ext sparkmagic.magics"
   ]
  },
  {
   "cell_type": "markdown",
   "metadata": {},
   "source": [
    "## Manage Spark\n",
    "\n",
    "    1) Add an endpoint - add livy server and ignore username and password\n",
    "    2) Create a session. The session parameters will be taken from ~/.sparkmagic/config.json\n",
    "\n",
    "Example session properties:\n",
    "\n",
    "```json\n",
    "{\"executorCores\": 4, \n",
    " \"proxyUser\": \"bernhard\", \n",
    " \"conf\": {\n",
    "   \"spark.master\": \"yarn-cluster\", \n",
    "   \"spark.jars.packages\": \"com.databricks:spark-csv_2.10:1.5.0\"\n",
    " }, \n",
    " \"driverMemory\": \"2G\"\n",
    "}\n",
    "```\n",
    "This enusres that jobs are executed on the Hadoop cluster as user \"bernhard\"with 4 executors"
   ]
  },
  {
   "cell_type": "code",
   "execution_count": 2,
   "metadata": {
    "collapsed": false
   },
   "outputs": [
    {
     "name": "stdout",
     "output_type": "stream",
     "text": [
      "Added endpoint http://banach.local:8998\n",
      "Starting Spark application\n"
     ]
    },
    {
     "data": {
      "text/html": [
       "<table>\n",
       "<tr><th>ID</th><th>YARN Application ID</th><th>Kind</th><th>State</th><th>Spark UI</th><th>Driver log</th><th>Current session?</th></tr><tr><td>14</td><td></td><td>spark</td><td>idle</td><td></td><td></td><td>✔</td></tr></table>"
      ],
      "text/plain": [
       "<IPython.core.display.HTML object>"
      ]
     },
     "metadata": {},
     "output_type": "display_data"
    },
    {
     "name": "stdout",
     "output_type": "stream",
     "text": [
      "SparkContext available as 'sc'.\n",
      "HiveContext available as 'sqlContext'.\n"
     ]
    }
   ],
   "source": [
    "%manage_spark"
   ]
  },
  {
   "cell_type": "markdown",
   "metadata": {},
   "source": [
    "## Using Spark with Scala"
   ]
  },
  {
   "cell_type": "code",
   "execution_count": 3,
   "metadata": {
    "collapsed": false
   },
   "outputs": [
    {
     "name": "stdout",
     "output_type": "stream",
     "text": [
      "res2: String = 1.6.2"
     ]
    }
   ],
   "source": [
    "sc.version"
   ]
  },
  {
   "cell_type": "code",
   "execution_count": 4,
   "metadata": {
    "collapsed": false
   },
   "outputs": [],
   "source": [
    "val df = sqlContext.read.\n",
    "                    format(\"com.databricks.spark.csv\").\n",
    "                    option(\"header\", \"true\").\n",
    "                    option(\"inferSchema\", \"true\").\n",
    "                    load(\"/tmp/iris.csv\").\n",
    "                    cache\n",
    "df.registerTempTable(\"iris\")"
   ]
  },
  {
   "cell_type": "code",
   "execution_count": 5,
   "metadata": {
    "collapsed": false
   },
   "outputs": [
    {
     "name": "stdout",
     "output_type": "stream",
     "text": [
      "+-----------+----------+-----------+----------+-----------+\n",
      "|sepalLength|spealWidth|petalLength|petalWidth|    species|\n",
      "+-----------+----------+-----------+----------+-----------+\n",
      "|        5.1|       3.5|        1.4|       0.2|Iris-setosa|\n",
      "|        4.9|       3.0|        1.4|       0.2|Iris-setosa|\n",
      "|        4.7|       3.2|        1.3|       0.2|Iris-setosa|\n",
      "|        4.6|       3.1|        1.5|       0.2|Iris-setosa|\n",
      "|        5.0|       3.6|        1.4|       0.2|Iris-setosa|\n",
      "|        5.4|       3.9|        1.7|       0.4|Iris-setosa|\n",
      "|        4.6|       3.4|        1.4|       0.3|Iris-setosa|\n",
      "|        5.0|       3.4|        1.5|       0.2|Iris-setosa|\n",
      "|        4.4|       2.9|        1.4|       0.2|Iris-setosa|\n",
      "|        4.9|       3.1|        1.5|       0.1|Iris-setosa|\n",
      "|        5.4|       3.7|        1.5|       0.2|Iris-setosa|\n",
      "|        4.8|       3.4|        1.6|       0.2|Iris-setosa|\n",
      "|        4.8|       3.0|        1.4|       0.1|Iris-setosa|\n",
      "|        4.3|       3.0|        1.1|       0.1|Iris-setosa|\n",
      "|        5.8|       4.0|        1.2|       0.2|Iris-setosa|\n",
      "|        5.7|       4.4|        1.5|       0.4|Iris-setosa|\n",
      "|        5.4|       3.9|        1.3|       0.4|Iris-setosa|\n",
      "|        5.1|       3.5|        1.4|       0.3|Iris-setosa|\n",
      "|        5.7|       3.8|        1.7|       0.3|Iris-setosa|\n",
      "|        5.1|       3.8|        1.5|       0.3|Iris-setosa|\n",
      "+-----------+----------+-----------+----------+-----------+\n",
      "only showing top 20 rows"
     ]
    }
   ],
   "source": [
    "df.show()"
   ]
  },
  {
   "cell_type": "markdown",
   "metadata": {},
   "source": [
    "## Use the session to issue SQL commands"
   ]
  },
  {
   "cell_type": "code",
   "execution_count": 6,
   "metadata": {
    "collapsed": false
   },
   "outputs": [],
   "source": [
    "%%spark -s jupyter-1 -c sql\n",
    "select min(sepalLength) as min, max(sepalLength) as max \n",
    "from iris \n",
    "group by species"
   ]
  },
  {
   "cell_type": "markdown",
   "metadata": {},
   "source": [
    "## Make the result usable in Python a s a Pandas Dataframe\n",
    "\n",
    "Flag `-o` will store result from Spark query into a Pandas DataFrame called irisDf"
   ]
  },
  {
   "cell_type": "code",
   "execution_count": 8,
   "metadata": {
    "collapsed": false
   },
   "outputs": [],
   "source": [
    "%%spark -s jupyter-1 -c sql -o irisDf --maxrows 150\n",
    "select * from iris"
   ]
  },
  {
   "cell_type": "markdown",
   "metadata": {},
   "source": [
    "## Working in local python environment\n",
    "Use ` %%local ` to use python ..."
   ]
  },
  {
   "cell_type": "code",
   "execution_count": 9,
   "metadata": {
    "collapsed": false
   },
   "outputs": [
    {
     "data": {
      "text/plain": [
       "pandas.core.frame.DataFrame"
      ]
     },
     "execution_count": 9,
     "metadata": {},
     "output_type": "execute_result"
    }
   ],
   "source": [
    "%%local\n",
    "type(irisDf)"
   ]
  },
  {
   "cell_type": "markdown",
   "metadata": {},
   "source": [
    "... and visualize the data using bokeh"
   ]
  },
  {
   "cell_type": "code",
   "execution_count": 10,
   "metadata": {
    "collapsed": false
   },
   "outputs": [
    {
     "data": {
      "text/html": [
       "\n",
       "    <div class=\"bk-root\">\n",
       "        <a href=\"http://bokeh.pydata.org\" target=\"_blank\" class=\"bk-logo bk-logo-small bk-logo-notebook\"></a>\n",
       "        <span id=\"7863c63e-e37e-4278-beae-d44b28e0f43c\">Loading BokehJS ...</span>\n",
       "    </div>"
      ]
     },
     "metadata": {},
     "output_type": "display_data"
    },
    {
     "data": {
      "application/javascript": [
       "\n",
       "(function(global) {\n",
       "  function now() {\n",
       "    return new Date();\n",
       "  }\n",
       "\n",
       "  var force = \"1\";\n",
       "\n",
       "  if (typeof (window._bokeh_onload_callbacks) === \"undefined\" || force !== \"\") {\n",
       "    window._bokeh_onload_callbacks = [];\n",
       "    window._bokeh_is_loading = undefined;\n",
       "  }\n",
       "\n",
       "\n",
       "  \n",
       "  if (typeof (window._bokeh_timeout) === \"undefined\" || force !== \"\") {\n",
       "    window._bokeh_timeout = Date.now() + 5000;\n",
       "    window._bokeh_failed_load = false;\n",
       "  }\n",
       "\n",
       "  var NB_LOAD_WARNING = {'data': {'text/html':\n",
       "     \"<div style='background-color: #fdd'>\\n\"+\n",
       "     \"<p>\\n\"+\n",
       "     \"BokehJS does not appear to have successfully loaded. If loading BokehJS from CDN, this \\n\"+\n",
       "     \"may be due to a slow or bad network connection. Possible fixes:\\n\"+\n",
       "     \"</p>\\n\"+\n",
       "     \"<ul>\\n\"+\n",
       "     \"<li>re-rerun `output_notebook()` to attempt to load from CDN again, or</li>\\n\"+\n",
       "     \"<li>use INLINE resources instead, as so:</li>\\n\"+\n",
       "     \"</ul>\\n\"+\n",
       "     \"<code>\\n\"+\n",
       "     \"from bokeh.resources import INLINE\\n\"+\n",
       "     \"output_notebook(resources=INLINE)\\n\"+\n",
       "     \"</code>\\n\"+\n",
       "     \"</div>\"}};\n",
       "\n",
       "  function display_loaded() {\n",
       "    if (window.Bokeh !== undefined) {\n",
       "      Bokeh.$(\"#7863c63e-e37e-4278-beae-d44b28e0f43c\").text(\"BokehJS successfully loaded.\");\n",
       "    } else if (Date.now() < window._bokeh_timeout) {\n",
       "      setTimeout(display_loaded, 100)\n",
       "    }\n",
       "  }\n",
       "\n",
       "  function run_callbacks() {\n",
       "    window._bokeh_onload_callbacks.forEach(function(callback) { callback() });\n",
       "    delete window._bokeh_onload_callbacks\n",
       "    console.info(\"Bokeh: all callbacks have finished\");\n",
       "  }\n",
       "\n",
       "  function load_libs(js_urls, callback) {\n",
       "    window._bokeh_onload_callbacks.push(callback);\n",
       "    if (window._bokeh_is_loading > 0) {\n",
       "      console.log(\"Bokeh: BokehJS is being loaded, scheduling callback at\", now());\n",
       "      return null;\n",
       "    }\n",
       "    if (js_urls == null || js_urls.length === 0) {\n",
       "      run_callbacks();\n",
       "      return null;\n",
       "    }\n",
       "    console.log(\"Bokeh: BokehJS not loaded, scheduling load and callback at\", now());\n",
       "    window._bokeh_is_loading = js_urls.length;\n",
       "    for (var i = 0; i < js_urls.length; i++) {\n",
       "      var url = js_urls[i];\n",
       "      var s = document.createElement('script');\n",
       "      s.src = url;\n",
       "      s.async = false;\n",
       "      s.onreadystatechange = s.onload = function() {\n",
       "        window._bokeh_is_loading--;\n",
       "        if (window._bokeh_is_loading === 0) {\n",
       "          console.log(\"Bokeh: all BokehJS libraries loaded\");\n",
       "          run_callbacks()\n",
       "        }\n",
       "      };\n",
       "      s.onerror = function() {\n",
       "        console.warn(\"failed to load library \" + url);\n",
       "      };\n",
       "      console.log(\"Bokeh: injecting script tag for BokehJS library: \", url);\n",
       "      document.getElementsByTagName(\"head\")[0].appendChild(s);\n",
       "    }\n",
       "  };var element = document.getElementById(\"7863c63e-e37e-4278-beae-d44b28e0f43c\");\n",
       "  if (element == null) {\n",
       "    console.log(\"Bokeh: ERROR: autoload.js configured with elementid '7863c63e-e37e-4278-beae-d44b28e0f43c' but no matching script tag was found. \")\n",
       "    return false;\n",
       "  }\n",
       "\n",
       "  var js_urls = ['https://cdn.pydata.org/bokeh/release/bokeh-0.12.3.min.js', 'https://cdn.pydata.org/bokeh/release/bokeh-widgets-0.12.3.min.js'];\n",
       "\n",
       "  var inline_js = [\n",
       "    function(Bokeh) {\n",
       "      Bokeh.set_log_level(\"info\");\n",
       "    },\n",
       "    \n",
       "    function(Bokeh) {\n",
       "      \n",
       "      Bokeh.$(\"#7863c63e-e37e-4278-beae-d44b28e0f43c\").text(\"BokehJS is loading...\");\n",
       "    },\n",
       "    function(Bokeh) {\n",
       "      console.log(\"Bokeh: injecting CSS: https://cdn.pydata.org/bokeh/release/bokeh-0.12.3.min.css\");\n",
       "      Bokeh.embed.inject_css(\"https://cdn.pydata.org/bokeh/release/bokeh-0.12.3.min.css\");\n",
       "      console.log(\"Bokeh: injecting CSS: https://cdn.pydata.org/bokeh/release/bokeh-widgets-0.12.3.min.css\");\n",
       "      Bokeh.embed.inject_css(\"https://cdn.pydata.org/bokeh/release/bokeh-widgets-0.12.3.min.css\");\n",
       "    }\n",
       "  ];\n",
       "\n",
       "  function run_inline_js() {\n",
       "    \n",
       "    if ((window.Bokeh !== undefined) || (force === \"1\")) {\n",
       "      for (var i = 0; i < inline_js.length; i++) {\n",
       "        inline_js[i](window.Bokeh);\n",
       "      }if (force === \"1\") {\n",
       "        display_loaded();\n",
       "      }} else if (Date.now() < window._bokeh_timeout) {\n",
       "      setTimeout(run_inline_js, 100);\n",
       "    } else if (!window._bokeh_failed_load) {\n",
       "      console.log(\"Bokeh: BokehJS failed to load within specified timeout.\");\n",
       "      window._bokeh_failed_load = true;\n",
       "    } else if (!force) {\n",
       "      var cell = $(\"#7863c63e-e37e-4278-beae-d44b28e0f43c\").parents('.cell').data().cell;\n",
       "      cell.output_area.append_execute_result(NB_LOAD_WARNING)\n",
       "    }\n",
       "\n",
       "  }\n",
       "\n",
       "  if (window._bokeh_is_loading === 0) {\n",
       "    console.log(\"Bokeh: BokehJS loaded, going straight to plotting\");\n",
       "    run_inline_js();\n",
       "  } else {\n",
       "    load_libs(js_urls, function() {\n",
       "      console.log(\"Bokeh: BokehJS plotting callback run at\", now());\n",
       "      run_inline_js();\n",
       "    });\n",
       "  }\n",
       "}(this));"
      ]
     },
     "metadata": {},
     "output_type": "display_data"
    }
   ],
   "source": [
    "%%local\n",
    "\n",
    "from bokeh.io import push_notebook, show, output_notebook\n",
    "from bokeh.layouts import row\n",
    "from bokeh.plotting import figure\n",
    "output_notebook()"
   ]
  },
  {
   "cell_type": "code",
   "execution_count": 11,
   "metadata": {
    "collapsed": false
   },
   "outputs": [
    {
     "data": {
      "text/html": [
       "\n",
       "\n",
       "    <div class=\"bk-root\">\n",
       "        <div class=\"plotdiv\" id=\"78a9b59c-9a5a-490b-924d-b1bf2286fbb4\"></div>\n",
       "    </div>\n",
       "<script type=\"text/javascript\">\n",
       "  \n",
       "  (function(global) {\n",
       "    function now() {\n",
       "      return new Date();\n",
       "    }\n",
       "  \n",
       "    var force = \"\";\n",
       "  \n",
       "    if (typeof (window._bokeh_onload_callbacks) === \"undefined\" || force !== \"\") {\n",
       "      window._bokeh_onload_callbacks = [];\n",
       "      window._bokeh_is_loading = undefined;\n",
       "    }\n",
       "  \n",
       "  \n",
       "    \n",
       "    if (typeof (window._bokeh_timeout) === \"undefined\" || force !== \"\") {\n",
       "      window._bokeh_timeout = Date.now() + 0;\n",
       "      window._bokeh_failed_load = false;\n",
       "    }\n",
       "  \n",
       "    var NB_LOAD_WARNING = {'data': {'text/html':\n",
       "       \"<div style='background-color: #fdd'>\\n\"+\n",
       "       \"<p>\\n\"+\n",
       "       \"BokehJS does not appear to have successfully loaded. If loading BokehJS from CDN, this \\n\"+\n",
       "       \"may be due to a slow or bad network connection. Possible fixes:\\n\"+\n",
       "       \"</p>\\n\"+\n",
       "       \"<ul>\\n\"+\n",
       "       \"<li>re-rerun `output_notebook()` to attempt to load from CDN again, or</li>\\n\"+\n",
       "       \"<li>use INLINE resources instead, as so:</li>\\n\"+\n",
       "       \"</ul>\\n\"+\n",
       "       \"<code>\\n\"+\n",
       "       \"from bokeh.resources import INLINE\\n\"+\n",
       "       \"output_notebook(resources=INLINE)\\n\"+\n",
       "       \"</code>\\n\"+\n",
       "       \"</div>\"}};\n",
       "  \n",
       "    function display_loaded() {\n",
       "      if (window.Bokeh !== undefined) {\n",
       "        Bokeh.$(\"#78a9b59c-9a5a-490b-924d-b1bf2286fbb4\").text(\"BokehJS successfully loaded.\");\n",
       "      } else if (Date.now() < window._bokeh_timeout) {\n",
       "        setTimeout(display_loaded, 100)\n",
       "      }\n",
       "    }\n",
       "  \n",
       "    function run_callbacks() {\n",
       "      window._bokeh_onload_callbacks.forEach(function(callback) { callback() });\n",
       "      delete window._bokeh_onload_callbacks\n",
       "      console.info(\"Bokeh: all callbacks have finished\");\n",
       "    }\n",
       "  \n",
       "    function load_libs(js_urls, callback) {\n",
       "      window._bokeh_onload_callbacks.push(callback);\n",
       "      if (window._bokeh_is_loading > 0) {\n",
       "        console.log(\"Bokeh: BokehJS is being loaded, scheduling callback at\", now());\n",
       "        return null;\n",
       "      }\n",
       "      if (js_urls == null || js_urls.length === 0) {\n",
       "        run_callbacks();\n",
       "        return null;\n",
       "      }\n",
       "      console.log(\"Bokeh: BokehJS not loaded, scheduling load and callback at\", now());\n",
       "      window._bokeh_is_loading = js_urls.length;\n",
       "      for (var i = 0; i < js_urls.length; i++) {\n",
       "        var url = js_urls[i];\n",
       "        var s = document.createElement('script');\n",
       "        s.src = url;\n",
       "        s.async = false;\n",
       "        s.onreadystatechange = s.onload = function() {\n",
       "          window._bokeh_is_loading--;\n",
       "          if (window._bokeh_is_loading === 0) {\n",
       "            console.log(\"Bokeh: all BokehJS libraries loaded\");\n",
       "            run_callbacks()\n",
       "          }\n",
       "        };\n",
       "        s.onerror = function() {\n",
       "          console.warn(\"failed to load library \" + url);\n",
       "        };\n",
       "        console.log(\"Bokeh: injecting script tag for BokehJS library: \", url);\n",
       "        document.getElementsByTagName(\"head\")[0].appendChild(s);\n",
       "      }\n",
       "    };var element = document.getElementById(\"78a9b59c-9a5a-490b-924d-b1bf2286fbb4\");\n",
       "    if (element == null) {\n",
       "      console.log(\"Bokeh: ERROR: autoload.js configured with elementid '78a9b59c-9a5a-490b-924d-b1bf2286fbb4' but no matching script tag was found. \")\n",
       "      return false;\n",
       "    }\n",
       "  \n",
       "    var js_urls = [];\n",
       "  \n",
       "    var inline_js = [\n",
       "      function(Bokeh) {\n",
       "        Bokeh.$(function() {\n",
       "            var docs_json = {\"533bf70e-3b47-45a6-b788-d0a20adcc766\":{\"roots\":{\"references\":[{\"attributes\":{\"plot\":{\"id\":\"ff3b1fb9-07dc-4e4d-934d-4fa57ec0717d\",\"subtype\":\"Figure\",\"type\":\"Plot\"}},\"id\":\"9c00dd92-0bd1-4f8d-9116-cd77cb2fe820\",\"type\":\"HelpTool\"},{\"attributes\":{\"callback\":null},\"id\":\"d4676b3a-5284-4182-bae0-6dabd3c9f3c8\",\"type\":\"DataRange1d\"},{\"attributes\":{\"callback\":null},\"id\":\"601aee62-c975-49e4-b955-5223c69c76dd\",\"type\":\"DataRange1d\"},{\"attributes\":{\"overlay\":{\"id\":\"5751cdf3-6221-4cd2-aa20-7192877996da\",\"type\":\"BoxAnnotation\"},\"plot\":{\"id\":\"ff3b1fb9-07dc-4e4d-934d-4fa57ec0717d\",\"subtype\":\"Figure\",\"type\":\"Plot\"}},\"id\":\"dcb3f3cd-b901-4f80-a5d7-685c67140e46\",\"type\":\"BoxZoomTool\"},{\"attributes\":{},\"id\":\"e7707f53-6944-4ac4-8ae1-2b449426238c\",\"type\":\"ToolEvents\"},{\"attributes\":{},\"id\":\"d1cf534d-e55d-4308-bfd6-95a6d5fca7e6\",\"type\":\"BasicTickFormatter\"},{\"attributes\":{\"callback\":null,\"column_names\":[\"y\",\"x\",\"line_color\",\"fill_color\"],\"data\":{\"fill_color\":[\"red\",\"red\",\"red\",\"red\",\"red\",\"red\",\"red\",\"red\",\"red\",\"red\",\"red\",\"red\",\"red\",\"red\",\"red\",\"red\",\"red\",\"red\",\"red\",\"red\",\"red\",\"red\",\"red\",\"red\",\"red\",\"red\",\"red\",\"red\",\"red\",\"red\",\"red\",\"red\",\"red\",\"red\",\"red\",\"red\",\"red\",\"red\",\"red\",\"red\",\"red\",\"red\",\"red\",\"red\",\"red\",\"red\",\"red\",\"red\",\"red\",\"red\",\"green\",\"green\",\"green\",\"green\",\"green\",\"green\",\"green\",\"green\",\"green\",\"green\",\"green\",\"green\",\"green\",\"green\",\"green\",\"green\",\"green\",\"green\",\"green\",\"green\",\"green\",\"green\",\"green\",\"green\",\"green\",\"green\",\"green\",\"green\",\"green\",\"green\",\"green\",\"green\",\"green\",\"green\",\"green\",\"green\",\"green\",\"green\",\"green\",\"green\",\"green\",\"green\",\"green\",\"green\",\"green\",\"green\",\"green\",\"green\",\"green\",\"green\",\"blue\",\"blue\",\"blue\",\"blue\",\"blue\",\"blue\",\"blue\",\"blue\",\"blue\",\"blue\",\"blue\",\"blue\",\"blue\",\"blue\",\"blue\",\"blue\",\"blue\",\"blue\",\"blue\",\"blue\",\"blue\",\"blue\",\"blue\",\"blue\",\"blue\",\"blue\",\"blue\",\"blue\",\"blue\",\"blue\",\"blue\",\"blue\",\"blue\",\"blue\",\"blue\",\"blue\",\"blue\",\"blue\",\"blue\",\"blue\",\"blue\",\"blue\",\"blue\",\"blue\",\"blue\",\"blue\",\"blue\",\"blue\",\"blue\",\"blue\"],\"line_color\":[\"red\",\"red\",\"red\",\"red\",\"red\",\"red\",\"red\",\"red\",\"red\",\"red\",\"red\",\"red\",\"red\",\"red\",\"red\",\"red\",\"red\",\"red\",\"red\",\"red\",\"red\",\"red\",\"red\",\"red\",\"red\",\"red\",\"red\",\"red\",\"red\",\"red\",\"red\",\"red\",\"red\",\"red\",\"red\",\"red\",\"red\",\"red\",\"red\",\"red\",\"red\",\"red\",\"red\",\"red\",\"red\",\"red\",\"red\",\"red\",\"red\",\"red\",\"green\",\"green\",\"green\",\"green\",\"green\",\"green\",\"green\",\"green\",\"green\",\"green\",\"green\",\"green\",\"green\",\"green\",\"green\",\"green\",\"green\",\"green\",\"green\",\"green\",\"green\",\"green\",\"green\",\"green\",\"green\",\"green\",\"green\",\"green\",\"green\",\"green\",\"green\",\"green\",\"green\",\"green\",\"green\",\"green\",\"green\",\"green\",\"green\",\"green\",\"green\",\"green\",\"green\",\"green\",\"green\",\"green\",\"green\",\"green\",\"green\",\"green\",\"blue\",\"blue\",\"blue\",\"blue\",\"blue\",\"blue\",\"blue\",\"blue\",\"blue\",\"blue\",\"blue\",\"blue\",\"blue\",\"blue\",\"blue\",\"blue\",\"blue\",\"blue\",\"blue\",\"blue\",\"blue\",\"blue\",\"blue\",\"blue\",\"blue\",\"blue\",\"blue\",\"blue\",\"blue\",\"blue\",\"blue\",\"blue\",\"blue\",\"blue\",\"blue\",\"blue\",\"blue\",\"blue\",\"blue\",\"blue\",\"blue\",\"blue\",\"blue\",\"blue\",\"blue\",\"blue\",\"blue\",\"blue\",\"blue\",\"blue\"],\"x\":[1.4,1.4,1.3,1.5,1.4,1.7,1.4,1.5,1.4,1.5,1.5,1.6,1.4,1.1,1.2,1.5,1.3,1.4,1.7,1.5,1.7,1.5,1.0,1.7,1.9,1.6,1.6,1.5,1.4,1.6,1.6,1.5,1.5,1.4,1.5,1.2,1.3,1.5,1.3,1.5,1.3,1.3,1.3,1.6,1.9,1.4,1.6,1.4,1.5,1.4,4.7,4.5,4.9,4.0,4.6,4.5,4.7,3.3,4.6,3.9,3.5,4.2,4.0,4.7,3.6,4.4,4.5,4.1,4.5,3.9,4.8,4.0,4.9,4.7,4.3,4.4,4.8,5.0,4.5,3.5,3.8,3.7,3.9,5.1,4.5,4.5,4.7,4.4,4.1,4.0,4.4,4.6,4.0,3.3,4.2,4.2,4.2,4.3,3.0,4.1,6.0,5.1,5.9,5.6,5.8,6.6,4.5,6.3,5.8,6.1,5.1,5.3,5.5,5.0,5.1,5.3,5.5,6.7,6.9,5.0,5.7,4.9,6.7,4.9,5.7,6.0,4.8,4.9,5.6,5.8,6.1,6.4,5.6,5.1,5.6,6.1,5.6,5.5,4.8,5.4,5.6,5.1,5.1,5.9,5.7,5.2,5.0,5.2,5.4,5.1],\"y\":[0.2,0.2,0.2,0.2,0.2,0.4,0.3,0.2,0.2,0.1,0.2,0.2,0.1,0.1,0.2,0.4,0.4,0.3,0.3,0.3,0.2,0.4,0.2,0.5,0.2,0.2,0.4,0.2,0.2,0.2,0.2,0.4,0.1,0.2,0.1,0.2,0.2,0.1,0.2,0.2,0.3,0.3,0.2,0.6,0.4,0.3,0.2,0.2,0.2,0.2,1.4,1.5,1.5,1.3,1.5,1.3,1.6,1.0,1.3,1.4,1.0,1.5,1.0,1.4,1.3,1.4,1.5,1.0,1.5,1.1,1.8,1.3,1.5,1.2,1.3,1.4,1.4,1.7,1.5,1.0,1.1,1.0,1.2,1.6,1.5,1.6,1.5,1.3,1.3,1.3,1.2,1.4,1.2,1.0,1.3,1.2,1.3,1.3,1.1,1.3,2.5,1.9,2.1,1.8,2.2,2.1,1.7,1.8,1.8,2.5,2.0,1.9,2.1,2.0,2.4,2.3,1.8,2.2,2.3,1.5,2.3,2.0,2.0,1.8,2.1,1.8,1.8,1.8,2.1,1.6,1.9,2.0,2.2,1.5,1.4,2.3,2.4,1.8,1.8,2.1,2.4,2.3,1.9,2.3,2.5,2.3,1.9,2.0,2.3,1.8]}},\"id\":\"cb1df5fb-e6e8-4b99-b88c-391622762058\",\"type\":\"ColumnDataSource\"},{\"attributes\":{\"plot\":{\"id\":\"ff3b1fb9-07dc-4e4d-934d-4fa57ec0717d\",\"subtype\":\"Figure\",\"type\":\"Plot\"}},\"id\":\"7519507b-af56-4955-a92c-f5b6e79227d0\",\"type\":\"SaveTool\"},{\"attributes\":{\"plot\":{\"id\":\"ff3b1fb9-07dc-4e4d-934d-4fa57ec0717d\",\"subtype\":\"Figure\",\"type\":\"Plot\"}},\"id\":\"f68f8642-8c48-4606-8b94-30b281274f9a\",\"type\":\"ResetTool\"},{\"attributes\":{\"dimension\":1,\"plot\":{\"id\":\"ff3b1fb9-07dc-4e4d-934d-4fa57ec0717d\",\"subtype\":\"Figure\",\"type\":\"Plot\"},\"ticker\":{\"id\":\"b26c484b-92b1-47c5-bfd0-7bce2a659410\",\"type\":\"BasicTicker\"}},\"id\":\"3a719d78-2f43-4af2-b138-194a5fe0f735\",\"type\":\"Grid\"},{\"attributes\":{\"plot\":{\"id\":\"ff3b1fb9-07dc-4e4d-934d-4fa57ec0717d\",\"subtype\":\"Figure\",\"type\":\"Plot\"}},\"id\":\"120dd7fb-9da5-4469-aa22-2750c67e16d5\",\"type\":\"WheelZoomTool\"},{\"attributes\":{\"plot\":{\"id\":\"ff3b1fb9-07dc-4e4d-934d-4fa57ec0717d\",\"subtype\":\"Figure\",\"type\":\"Plot\"}},\"id\":\"b2c6f726-9c2e-4aaa-a190-529f1f94f0ff\",\"type\":\"PanTool\"},{\"attributes\":{\"below\":[{\"id\":\"feb6e85e-8110-46fc-b2eb-7d1018b920d4\",\"type\":\"LinearAxis\"}],\"left\":[{\"id\":\"82bf3431-aef0-44f3-98ad-f548920a57ae\",\"type\":\"LinearAxis\"}],\"renderers\":[{\"id\":\"feb6e85e-8110-46fc-b2eb-7d1018b920d4\",\"type\":\"LinearAxis\"},{\"id\":\"f43fd924-02aa-4b7d-933a-2a88216b22c6\",\"type\":\"Grid\"},{\"id\":\"82bf3431-aef0-44f3-98ad-f548920a57ae\",\"type\":\"LinearAxis\"},{\"id\":\"3a719d78-2f43-4af2-b138-194a5fe0f735\",\"type\":\"Grid\"},{\"id\":\"5751cdf3-6221-4cd2-aa20-7192877996da\",\"type\":\"BoxAnnotation\"},{\"id\":\"15d57679-5c17-42ed-b66e-7133f8df3200\",\"type\":\"GlyphRenderer\"}],\"title\":{\"id\":\"c0569b11-1b84-4510-b177-53eba33b7261\",\"type\":\"Title\"},\"tool_events\":{\"id\":\"e7707f53-6944-4ac4-8ae1-2b449426238c\",\"type\":\"ToolEvents\"},\"toolbar\":{\"id\":\"c3c13ce2-5875-4ad7-9289-95704e6df553\",\"type\":\"Toolbar\"},\"x_range\":{\"id\":\"d4676b3a-5284-4182-bae0-6dabd3c9f3c8\",\"type\":\"DataRange1d\"},\"y_range\":{\"id\":\"601aee62-c975-49e4-b955-5223c69c76dd\",\"type\":\"DataRange1d\"}},\"id\":\"ff3b1fb9-07dc-4e4d-934d-4fa57ec0717d\",\"subtype\":\"Figure\",\"type\":\"Plot\"},{\"attributes\":{\"plot\":null,\"text\":\"Iris Morphology\"},\"id\":\"c0569b11-1b84-4510-b177-53eba33b7261\",\"type\":\"Title\"},{\"attributes\":{\"data_source\":{\"id\":\"cb1df5fb-e6e8-4b99-b88c-391622762058\",\"type\":\"ColumnDataSource\"},\"glyph\":{\"id\":\"40a97c33-0851-4636-a39f-405d75fb8d11\",\"type\":\"Circle\"},\"hover_glyph\":null,\"nonselection_glyph\":{\"id\":\"e349aceb-a38e-42ee-8f48-6fee7d72a47d\",\"type\":\"Circle\"},\"selection_glyph\":null},\"id\":\"15d57679-5c17-42ed-b66e-7133f8df3200\",\"type\":\"GlyphRenderer\"},{\"attributes\":{\"plot\":{\"id\":\"ff3b1fb9-07dc-4e4d-934d-4fa57ec0717d\",\"subtype\":\"Figure\",\"type\":\"Plot\"},\"ticker\":{\"id\":\"41998970-3c17-4abc-9948-c821f2f18a6b\",\"type\":\"BasicTicker\"}},\"id\":\"f43fd924-02aa-4b7d-933a-2a88216b22c6\",\"type\":\"Grid\"},{\"attributes\":{\"fill_alpha\":{\"value\":0.1},\"fill_color\":{\"value\":\"#1f77b4\"},\"line_alpha\":{\"value\":0.1},\"line_color\":{\"value\":\"#1f77b4\"},\"size\":{\"units\":\"screen\",\"value\":10},\"x\":{\"field\":\"x\"},\"y\":{\"field\":\"y\"}},\"id\":\"e349aceb-a38e-42ee-8f48-6fee7d72a47d\",\"type\":\"Circle\"},{\"attributes\":{},\"id\":\"b26c484b-92b1-47c5-bfd0-7bce2a659410\",\"type\":\"BasicTicker\"},{\"attributes\":{},\"id\":\"41998970-3c17-4abc-9948-c821f2f18a6b\",\"type\":\"BasicTicker\"},{\"attributes\":{\"active_drag\":\"auto\",\"active_scroll\":\"auto\",\"active_tap\":\"auto\",\"tools\":[{\"id\":\"b2c6f726-9c2e-4aaa-a190-529f1f94f0ff\",\"type\":\"PanTool\"},{\"id\":\"120dd7fb-9da5-4469-aa22-2750c67e16d5\",\"type\":\"WheelZoomTool\"},{\"id\":\"dcb3f3cd-b901-4f80-a5d7-685c67140e46\",\"type\":\"BoxZoomTool\"},{\"id\":\"7519507b-af56-4955-a92c-f5b6e79227d0\",\"type\":\"SaveTool\"},{\"id\":\"f68f8642-8c48-4606-8b94-30b281274f9a\",\"type\":\"ResetTool\"},{\"id\":\"9c00dd92-0bd1-4f8d-9116-cd77cb2fe820\",\"type\":\"HelpTool\"}]},\"id\":\"c3c13ce2-5875-4ad7-9289-95704e6df553\",\"type\":\"Toolbar\"},{\"attributes\":{\"axis_label\":\"Petal Length\",\"formatter\":{\"id\":\"6a88ef74-62bb-4351-b700-b08aa18156f8\",\"type\":\"BasicTickFormatter\"},\"plot\":{\"id\":\"ff3b1fb9-07dc-4e4d-934d-4fa57ec0717d\",\"subtype\":\"Figure\",\"type\":\"Plot\"},\"ticker\":{\"id\":\"41998970-3c17-4abc-9948-c821f2f18a6b\",\"type\":\"BasicTicker\"}},\"id\":\"feb6e85e-8110-46fc-b2eb-7d1018b920d4\",\"type\":\"LinearAxis\"},{\"attributes\":{\"fill_alpha\":{\"value\":0.2},\"fill_color\":{\"field\":\"fill_color\"},\"line_color\":{\"field\":\"line_color\"},\"size\":{\"units\":\"screen\",\"value\":10},\"x\":{\"field\":\"x\"},\"y\":{\"field\":\"y\"}},\"id\":\"40a97c33-0851-4636-a39f-405d75fb8d11\",\"type\":\"Circle\"},{\"attributes\":{\"bottom_units\":\"screen\",\"fill_alpha\":{\"value\":0.5},\"fill_color\":{\"value\":\"lightgrey\"},\"left_units\":\"screen\",\"level\":\"overlay\",\"line_alpha\":{\"value\":1.0},\"line_color\":{\"value\":\"black\"},\"line_dash\":[4,4],\"line_width\":{\"value\":2},\"plot\":null,\"render_mode\":\"css\",\"right_units\":\"screen\",\"top_units\":\"screen\"},\"id\":\"5751cdf3-6221-4cd2-aa20-7192877996da\",\"type\":\"BoxAnnotation\"},{\"attributes\":{},\"id\":\"6a88ef74-62bb-4351-b700-b08aa18156f8\",\"type\":\"BasicTickFormatter\"},{\"attributes\":{\"axis_label\":\"Petal Width\",\"formatter\":{\"id\":\"d1cf534d-e55d-4308-bfd6-95a6d5fca7e6\",\"type\":\"BasicTickFormatter\"},\"plot\":{\"id\":\"ff3b1fb9-07dc-4e4d-934d-4fa57ec0717d\",\"subtype\":\"Figure\",\"type\":\"Plot\"},\"ticker\":{\"id\":\"b26c484b-92b1-47c5-bfd0-7bce2a659410\",\"type\":\"BasicTicker\"}},\"id\":\"82bf3431-aef0-44f3-98ad-f548920a57ae\",\"type\":\"LinearAxis\"}],\"root_ids\":[\"ff3b1fb9-07dc-4e4d-934d-4fa57ec0717d\"]},\"title\":\"Bokeh Application\",\"version\":\"0.12.3\"}};\n",
       "            var render_items = [{\"docid\":\"533bf70e-3b47-45a6-b788-d0a20adcc766\",\"elementid\":\"78a9b59c-9a5a-490b-924d-b1bf2286fbb4\",\"modelid\":\"ff3b1fb9-07dc-4e4d-934d-4fa57ec0717d\"}];\n",
       "            \n",
       "            Bokeh.embed.embed_items(docs_json, render_items);\n",
       "        });\n",
       "      },\n",
       "      function(Bokeh) {\n",
       "      }\n",
       "    ];\n",
       "  \n",
       "    function run_inline_js() {\n",
       "      \n",
       "      if ((window.Bokeh !== undefined) || (force === \"1\")) {\n",
       "        for (var i = 0; i < inline_js.length; i++) {\n",
       "          inline_js[i](window.Bokeh);\n",
       "        }if (force === \"1\") {\n",
       "          display_loaded();\n",
       "        }} else if (Date.now() < window._bokeh_timeout) {\n",
       "        setTimeout(run_inline_js, 100);\n",
       "      } else if (!window._bokeh_failed_load) {\n",
       "        console.log(\"Bokeh: BokehJS failed to load within specified timeout.\");\n",
       "        window._bokeh_failed_load = true;\n",
       "      } else if (!force) {\n",
       "        var cell = $(\"#78a9b59c-9a5a-490b-924d-b1bf2286fbb4\").parents('.cell').data().cell;\n",
       "        cell.output_area.append_execute_result(NB_LOAD_WARNING)\n",
       "      }\n",
       "  \n",
       "    }\n",
       "  \n",
       "    if (window._bokeh_is_loading === 0) {\n",
       "      console.log(\"Bokeh: BokehJS loaded, going straight to plotting\");\n",
       "      run_inline_js();\n",
       "    } else {\n",
       "      load_libs(js_urls, function() {\n",
       "        console.log(\"Bokeh: BokehJS plotting callback run at\", now());\n",
       "        run_inline_js();\n",
       "      });\n",
       "    }\n",
       "  }(this));\n",
       "</script>"
      ]
     },
     "metadata": {},
     "output_type": "display_data"
    }
   ],
   "source": [
    "%%local\n",
    "colormap = {'Iris-setosa': 'red', 'Iris-versicolor': 'green', 'Iris-virginica': 'blue'}\n",
    "colors = [colormap[x] for x in irisDf['species']]\n",
    "\n",
    "p = figure(title = \"Iris Morphology\")\n",
    "p.xaxis.axis_label = 'Petal Length'\n",
    "p.yaxis.axis_label = 'Petal Width'\n",
    "\n",
    "p.circle(irisDf[\"petalLength\"], irisDf[\"petalWidth\"],\n",
    "         color=colors, fill_alpha=0.2, size=10)\n",
    "\n",
    "show(p)"
   ]
  },
  {
   "cell_type": "code",
   "execution_count": null,
   "metadata": {
    "collapsed": true
   },
   "outputs": [],
   "source": []
  }
 ],
 "metadata": {
  "kernelspec": {
   "display_name": "Spark",
   "language": "",
   "name": "sparkkernel"
  },
  "language_info": {
   "codemirror_mode": "text/x-scala",
   "mimetype": "text/x-scala",
   "name": "scala",
   "pygments_lexer": "scala"
  },
  "widgets": {
   "state": {
    "0709e734c7b04f5a9a75d724f550f11b": {
     "views": [
      {
       "cell_index": 11
      }
     ]
    },
    "10019309c16345e0ad751ea76da53f2a": {
     "views": [
      {
       "cell_index": 7
      }
     ]
    },
    "1cc07d6781824e3896fc246bf09df58d": {
     "views": [
      {
       "cell_index": 10
      }
     ]
    },
    "235aeb84f7874ffbb1ced743da024db2": {
     "views": [
      {
       "cell_index": 6
      }
     ]
    },
    "25bd5427ba7d40f6b703228a955097e9": {
     "views": [
      {
       "cell_index": 9
      }
     ]
    },
    "349271bbbf62464da2145225e6dc63d6": {
     "views": [
      {
       "cell_index": 7
      }
     ]
    },
    "3e11642e486445e19873182496b7be92": {
     "views": [
      {
       "cell_index": 11
      }
     ]
    },
    "4320276112914452ab778bc0779338d5": {
     "views": [
      {
       "cell_index": 9
      }
     ]
    },
    "583f9d24dc844331b2c0d52c5a592b25": {
     "views": [
      {
       "cell_index": 9
      }
     ]
    },
    "5bb42d254e614f2185a63ea051b77861": {
     "views": [
      {
       "cell_index": 9
      }
     ]
    },
    "683cbee03f8c4ba8985e0d9dc45ad34f": {
     "views": [
      {
       "cell_index": 7
      }
     ]
    },
    "7394ec14ae194b8c96c35a40cb24ea24": {
     "views": [
      {
       "cell_index": 11
      }
     ]
    },
    "76e98e480712478fad17badb90acbe0f": {
     "views": [
      {
       "cell_index": 8
      }
     ]
    },
    "77632260fd514bde83b8f53cacb3034a": {
     "views": [
      {
       "cell_index": 8
      }
     ]
    },
    "90df5b8fdb6e4268a51dd843e77a4678": {
     "views": [
      {
       "cell_index": 16
      }
     ]
    },
    "9327dc371d794f30bf3f26e3efcad2ba": {
     "views": [
      {
       "cell_index": 7
      }
     ]
    },
    "9f8bfd8b1b8046d2aad985abdecc4bcf": {
     "views": [
      {
       "cell_index": 7
      }
     ]
    },
    "d1c254874c014bada83f2374b0687f87": {
     "views": [
      {
       "cell_index": 7
      }
     ]
    },
    "e1c32368b164493e81e165739d42f3fb": {
     "views": [
      {
       "cell_index": 3
      }
     ]
    },
    "ed5f73cffa094caf98f5eec108baeb75": {
     "views": [
      {
       "cell_index": 5
      }
     ]
    },
    "faff1b17a1ae467c8bcd787c69a08b57": {
     "views": [
      {
       "cell_index": 9
      }
     ]
    }
   },
   "version": "1.2.0"
  }
 },
 "nbformat": 4,
 "nbformat_minor": 2
}
